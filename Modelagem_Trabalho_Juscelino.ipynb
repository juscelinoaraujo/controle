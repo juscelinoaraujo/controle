{
  "nbformat": 4,
  "nbformat_minor": 0,
  "metadata": {
    "colab": {
      "provenance": []
    },
    "kernelspec": {
      "name": "python3",
      "display_name": "Python 3"
    },
    "language_info": {
      "name": "python"
    }
  },
  "cells": [
    {
      "cell_type": "code",
      "source": [
        "# importação de biblioteca usada para geração de matriz\n",
        "import numpy as np\n"
      ],
      "metadata": {
        "id": "OQ-FG9Fyqe8H"
      },
      "execution_count": 39,
      "outputs": []
    },
    {
      "cell_type": "code",
      "source": [
        "\n",
        "def calcula_elemento(a, b, c, d):\n",
        "  \"\"\"Calcula um elemento da tabela de Routh.\n",
        "\n",
        "  Args:\n",
        "    a: Coeficiente a.\n",
        "    b: Coeficiente b.\n",
        "    c: Coeficiente c.\n",
        "    d: Coeficiente d.\n",
        "\n",
        "  Returns:\n",
        "    O valor calculado do elemento.\n",
        "  \"\"\"\n",
        "  if a != 0:\n",
        "    return (a*b - c*d)/a\n",
        "  else:\n",
        "    return 0"
      ],
      "metadata": {
        "id": "aKwWaaEnAf1b"
      },
      "execution_count": 40,
      "outputs": []
    },
    {
      "cell_type": "code",
      "source": [
        "\n",
        "def gera_tabela(vetor):\n",
        "  \"\"\"Gera a tabela de Routh a partir do vetor dos coeficientes do polinômio.\n",
        "\n",
        "  Args:\n",
        "    vetor: Vetor de coeficientes.\n",
        "\n",
        "  Returns:\n",
        "    A tabela de Routh gerada.\n",
        "  \"\"\"\n",
        "  n_col = len(vetor)//2 + len(vetor)%2\n",
        "  n_lin = 2*n_col\n",
        "  tabela = np.zeros((n_lin, n_col))\n",
        "  for i in range(n_col):\n",
        "    tabela[0, i] = vetor[2*i]\n",
        "    if (2*i+1) < len(vetor):\n",
        "      tabela[1, i] = vetor[2*i+1]\n",
        "  for j in range(2, n_lin):\n",
        "    k = n_col - j//2\n",
        "    for i in range(k):\n",
        "      a = tabela[j-1, 0]\n",
        "      b = tabela[j-2, i+1]\n",
        "      c = tabela[j-2, 0]\n",
        "      d = tabela[j-1, i+1]\n",
        "      tabela[j, i] = calcula_elemento(a, b, c, d)\n",
        "  return tabela"
      ],
      "metadata": {
        "id": "wuYxk8MyDVsO"
      },
      "execution_count": 41,
      "outputs": []
    },
    {
      "cell_type": "code",
      "execution_count": 42,
      "metadata": {
        "id": "6rF-D-xo_BHN"
      },
      "outputs": [],
      "source": [
        "def muda_sinal(novo, antigo):\n",
        "  \"\"\" Verifica se há mudança de sinal.\n",
        "\n",
        "  Args:\n",
        "    novo: Novo valor.\n",
        "    antigo: Valor antigo.\n",
        "\n",
        "  Returns:\n",
        "    True se houver mudança de sinal, False caso contrário.\n",
        "  \"\"\"\n",
        "  if novo*antigo < 0:\n",
        "    return True\n",
        "  else:\n",
        "    return False"
      ]
    },
    {
      "cell_type": "code",
      "source": [
        "def num_mudancas_sinal(col):\n",
        "  \"\"\" Conta o número de mudanças de sinal.\n",
        "\n",
        "  Args:\n",
        "    col: Coluna da tabela de Routh.\n",
        "\n",
        "  Returns:\n",
        "    O número de mudanças de sinal.\n",
        "  \"\"\"\n",
        "  return sum([muda_sinal(novo, antigo) for novo, antigo in zip(col[1:], col[:-1])])"
      ],
      "metadata": {
        "id": "inAS6On0_M5P"
      },
      "execution_count": 43,
      "outputs": []
    },
    {
      "cell_type": "code",
      "source": [
        "def num_polos_inst(vetor):\n",
        "  \"\"\" Conta o número de polos instáveis.\n",
        "\n",
        "  Args:\n",
        "    vetor: Vetor de coeficientes.\n",
        "\n",
        "  Returns:\n",
        "    O número de polos instáveis.\n",
        "  \"\"\"\n",
        "  return num_mudancas_sinal(gera_tabela(vetor)[:,0])"
      ],
      "metadata": {
        "id": "jtAOhbxCzbBm"
      },
      "execution_count": 44,
      "outputs": []
    },
    {
      "cell_type": "code",
      "source": [
        "print(num_polos_inst([1, 3, 6, 12, 8]))"
      ],
      "metadata": {
        "colab": {
          "base_uri": "https://localhost:8080/"
        },
        "id": "XHjlPqzr54bb",
        "outputId": "e0c317a6-20c4-43f5-d52a-9640cb4a9ae0"
      },
      "execution_count": 47,
      "outputs": [
        {
          "output_type": "stream",
          "name": "stdout",
          "text": [
            "0\n"
          ]
        }
      ]
    }
  ]
}